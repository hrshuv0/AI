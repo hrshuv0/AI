{
 "cells": [
  {
   "cell_type": "code",
   "execution_count": null,
   "id": "dynamic-street",
   "metadata": {},
   "outputs": [],
   "source": [
    "from requests import exceptions\n",
    "\n",
    "import matplotlib.pyplot as plt\n",
    "import requests\n",
    "import argparse\n",
    "import cv2\n",
    "import os\n",
    "import json\n"
   ]
  },
  {
   "cell_type": "code",
   "execution_count": null,
   "id": "flexible-awareness",
   "metadata": {},
   "outputs": [],
   "source": [
    "\n",
    "# ap = argparse.ArgumentParse()\n",
    "# ap.add_argument(\"-q\", \"--query\", required=True,\n",
    "#                help=\"search query to search Bing Image API for\")\n",
    "# ap.add_argument(\"-o\", \"--output\", required=True,\n",
    "#                help=\"path to output of images\")\n",
    "# args = vars(ap.parse_args())\n",
    "\n",
    "args = {\n",
    "    \"query\": \"cat\",\n",
    "    \"output\": \"dataset/test\"\n",
    "}"
   ]
  },
  {
   "cell_type": "code",
   "execution_count": null,
   "id": "particular-decision",
   "metadata": {},
   "outputs": [],
   "source": [
    "API_KEY    = \"e8c37798f5msh3238c1b684e4791p111ee5jsnf66f0346e534\"\n",
    "URL        = \"https://bing-image-search1.p.rapidapi.com/images/search\"\n",
    "\n",
    "MAX_RESULT = 20\n",
    "GROUP_SIZE = 5\n",
    "\n",
    "search_term= args[\"query\"]\n",
    "headers    = {\n",
    "    \"x-rapidapi-key\": API_KEY\n",
    "}\n",
    "params    = {\n",
    "    \"q\"     : search_term,\n",
    "    \"offset\": 0,\n",
    "    \"count\" : GROUP_SIZE    \n",
    "}\n",
    "\n",
    "print(\"[INFO] searching Bing API for '{}'\".format(search_term))\n",
    "\n",
    "search = requests.get(URL, headers=headers, params=params)\n",
    "search.raise_for_status()\n",
    "\n",
    "results = search.json()\n",
    "estNumResults = min(results[\"totalEstimatedMatches\"], MAX_RESULT)\n",
    "\n",
    "print(\"[INFO] total {} reslts for '{}'\".format(estNumResults, search_term))\n",
    "\n"
   ]
  },
  {
   "cell_type": "code",
   "execution_count": null,
   "id": "armed-gossip",
   "metadata": {},
   "outputs": [],
   "source": [
    "total = 0\n",
    "\n",
    "for offset in range(0, estNumResults, GROUP_SIZE):\n",
    "    print(\"[INFO] making request for group {}-{} of {}...\".format(offset, offset+GROUP_SIZE, estNumResults))\n",
    "    \n",
    "    params[\"offset\"] = offset\n",
    "    search = requests.get(URL, headers=headers, params=params)\n",
    "    search.raise_for_status()\n",
    "    results = search.json()\n",
    "    \n",
    "    print(\"[INFO] saving images for group {}-{} of {}...\".format(offset, offset+GROUP_SIZE, estNumResults))\n",
    "    \n"
   ]
  },
  {
   "cell_type": "code",
   "execution_count": null,
   "id": "attempted-fishing",
   "metadata": {},
   "outputs": [],
   "source": [
    "\n",
    "\n",
    "EXCEPTIONS = set([IOError, FileNotFoundError, \n",
    "                  exceptions.RequestException, exceptions.HTTPError, \n",
    "                  exceptions.ConnectionError, exceptions.Timeout])\n",
    "\n",
    "for v in results[\"value\"]:\n",
    "    try:\n",
    "        print(\"[INFO] feaching: {}\".format(v[\"contentUrl\"]))\n",
    "        \n",
    "        r = requests.get(v[\"contentUrl\"], timeout=30)\n",
    "        \n",
    "        ext= v[\"contentUrl\"][v[\"contentUrl\"].rfind(\".\"):]\n",
    "        p = os.path.sep.join([args[\"output\"], \"{}{}\".format(str(total).zfill(8), ext)])\n",
    "        \n",
    "        f = open(p, \"wb\")\n",
    "        f.write(r.content)\n",
    "        f.close()\n",
    "        \n",
    "    except Exception as e:\n",
    "        if type(e) in EXCEPTIONS:\n",
    "            print(\"[INFO] skipping: {}\".format(v[\"contentUrl\"]))\n",
    "        else:\n",
    "            print(\"[INFO] skipped\")\n",
    "            \n",
    "print(\"[INFO] done!!! \")"
   ]
  },
  {
   "cell_type": "code",
   "execution_count": null,
   "id": "dying-exception",
   "metadata": {},
   "outputs": [],
   "source": []
  }
 ],
 "metadata": {
  "kernelspec": {
   "display_name": "Python 3",
   "language": "python",
   "name": "python3"
  },
  "language_info": {
   "codemirror_mode": {
    "name": "ipython",
    "version": 3
   },
   "file_extension": ".py",
   "mimetype": "text/x-python",
   "name": "python",
   "nbconvert_exporter": "python",
   "pygments_lexer": "ipython3",
   "version": "3.8.8"
  }
 },
 "nbformat": 4,
 "nbformat_minor": 5
}
